{
  "cells": [
    {
      "cell_type": "markdown",
      "metadata": {
        "id": "view-in-github",
        "colab_type": "text"
      },
      "source": [
        "<a href=\"https://colab.research.google.com/github/glopez21/Deep-Learning-Intro/blob/main/3_Saving_and_Loading_a_model.ipynb\" target=\"_parent\"><img src=\"https://colab.research.google.com/assets/colab-badge.svg\" alt=\"Open In Colab\"/></a>"
      ]
    },
    {
      "cell_type": "markdown",
      "metadata": {
        "id": "ihLGqmbXLDUN"
      },
      "source": [
        "# Saving and Loading a Keras Neural Network\n",
        "\n",
        "Complex neural networks will take a long time to fit/train.  It is helpful to be able to save these neural networks so that you can reload them later.  A reloaded neural network will not require retraining.  Keras provides three formats for neural network saving.\n",
        "\n",
        "* **JSON** - Stores the neural network structure (no weights) in the [JSON file format](https://en.wikipedia.org/wiki/JSON).\n",
        "* **HDF5** - Stores the complete neural network (with weights) in the [HDF5 file format](https://en.wikipedia.org/wiki/Hierarchical_Data_Format). Do not confuse HDF5 with [HDFS](https://en.wikipedia.org/wiki/Apache_Hadoop).  They are different.  We do not use HDFS in this class.\n",
        "\n",
        "Usually, you will want to save in HDF5."
      ]
    },
    {
      "cell_type": "code",
      "source": [
        "from tensorflow.keras.models import Sequential\n",
        "from tensorflow.keras.layers import Dense, Activation\n",
        "import pandas as pd\n",
        "import io\n",
        "import os\n",
        "import requests\n",
        "import numpy as np\n",
        "from sklearn import metrics"
      ],
      "metadata": {
        "id": "5pArWxL2-e5K"
      },
      "execution_count": 1,
      "outputs": []
    },
    {
      "cell_type": "code",
      "source": [
        "save_path = \".\""
      ],
      "metadata": {
        "id": "igCiKR6F-e1R"
      },
      "execution_count": 2,
      "outputs": []
    },
    {
      "cell_type": "code",
      "source": [
        "df = pd.read_csv('https://raw.githubusercontent.com/glopez21/Deep-Learning-Intro/main/data/auto-mpg.csv', na_values=['NA', '?'])"
      ],
      "metadata": {
        "id": "dJLlk057-iq0"
      },
      "execution_count": 3,
      "outputs": []
    },
    {
      "cell_type": "code",
      "source": [
        "cars = df['name']"
      ],
      "metadata": {
        "id": "6cRwI4Fd-inS"
      },
      "execution_count": 4,
      "outputs": []
    },
    {
      "cell_type": "code",
      "source": [
        "# Handle missing value\n",
        "df['horsepower'] = df['horsepower'].fillna(df['horsepower'].median())"
      ],
      "metadata": {
        "id": "eluYqnOt-uUq"
      },
      "execution_count": 5,
      "outputs": []
    },
    {
      "cell_type": "code",
      "source": [
        "# Pandas to Numpy\n",
        "x = df[['cylinders', 'displacement', 'horsepower', 'weight', 'acceleration', 'year', 'origin']].values\n",
        "y = df['mpg'].values"
      ],
      "metadata": {
        "id": "rVmPIgF1-uQv"
      },
      "execution_count": 6,
      "outputs": []
    },
    {
      "cell_type": "code",
      "source": [
        "# Build the neural network\n",
        "model = Sequential()\n",
        "model.add(Dense(25, input_dim=x.shape[1], activation='relu')) # Hidden 1\n",
        "model.add(Dense(10, activation='relu')) # Hidden 2\n",
        "model.add(Dense(1)) # Output\n",
        "model.compile(loss='mean_squared_error', optimizer='adam')\n",
        "model.fit(x,y,verbose=2,epochs=100)"
      ],
      "metadata": {
        "colab": {
          "base_uri": "https://localhost:8080/"
        },
        "id": "pVyGFdCy-1p8",
        "outputId": "6e316d6a-1e84-4ca6-ac23-837a0b87eaff"
      },
      "execution_count": 7,
      "outputs": [
        {
          "output_type": "stream",
          "name": "stdout",
          "text": [
            "Epoch 1/100\n",
            "13/13 - 1s - loss: 1371.1456 - 902ms/epoch - 69ms/step\n",
            "Epoch 2/100\n",
            "13/13 - 0s - loss: 692.0790 - 42ms/epoch - 3ms/step\n",
            "Epoch 3/100\n",
            "13/13 - 0s - loss: 485.6282 - 47ms/epoch - 4ms/step\n",
            "Epoch 4/100\n",
            "13/13 - 0s - loss: 396.6917 - 40ms/epoch - 3ms/step\n",
            "Epoch 5/100\n",
            "13/13 - 0s - loss: 354.2178 - 51ms/epoch - 4ms/step\n",
            "Epoch 6/100\n",
            "13/13 - 0s - loss: 328.2730 - 57ms/epoch - 4ms/step\n",
            "Epoch 7/100\n",
            "13/13 - 0s - loss: 284.9070 - 54ms/epoch - 4ms/step\n",
            "Epoch 8/100\n",
            "13/13 - 0s - loss: 243.7017 - 49ms/epoch - 4ms/step\n",
            "Epoch 9/100\n",
            "13/13 - 0s - loss: 204.8975 - 50ms/epoch - 4ms/step\n",
            "Epoch 10/100\n",
            "13/13 - 0s - loss: 171.7448 - 42ms/epoch - 3ms/step\n",
            "Epoch 11/100\n",
            "13/13 - 0s - loss: 148.3961 - 43ms/epoch - 3ms/step\n",
            "Epoch 12/100\n",
            "13/13 - 0s - loss: 124.7580 - 58ms/epoch - 4ms/step\n",
            "Epoch 13/100\n",
            "13/13 - 0s - loss: 105.6859 - 48ms/epoch - 4ms/step\n",
            "Epoch 14/100\n",
            "13/13 - 0s - loss: 100.4163 - 47ms/epoch - 4ms/step\n",
            "Epoch 15/100\n",
            "13/13 - 0s - loss: 82.1816 - 44ms/epoch - 3ms/step\n",
            "Epoch 16/100\n",
            "13/13 - 0s - loss: 69.8274 - 43ms/epoch - 3ms/step\n",
            "Epoch 17/100\n",
            "13/13 - 0s - loss: 58.6752 - 43ms/epoch - 3ms/step\n",
            "Epoch 18/100\n",
            "13/13 - 0s - loss: 50.5683 - 40ms/epoch - 3ms/step\n",
            "Epoch 19/100\n",
            "13/13 - 0s - loss: 44.5534 - 42ms/epoch - 3ms/step\n",
            "Epoch 20/100\n",
            "13/13 - 0s - loss: 38.6205 - 40ms/epoch - 3ms/step\n",
            "Epoch 21/100\n",
            "13/13 - 0s - loss: 34.5865 - 52ms/epoch - 4ms/step\n",
            "Epoch 22/100\n",
            "13/13 - 0s - loss: 35.5699 - 43ms/epoch - 3ms/step\n",
            "Epoch 23/100\n",
            "13/13 - 0s - loss: 30.5934 - 40ms/epoch - 3ms/step\n",
            "Epoch 24/100\n",
            "13/13 - 0s - loss: 27.8568 - 39ms/epoch - 3ms/step\n",
            "Epoch 25/100\n",
            "13/13 - 0s - loss: 25.7705 - 43ms/epoch - 3ms/step\n",
            "Epoch 26/100\n",
            "13/13 - 0s - loss: 25.3020 - 42ms/epoch - 3ms/step\n",
            "Epoch 27/100\n",
            "13/13 - 0s - loss: 25.0139 - 38ms/epoch - 3ms/step\n",
            "Epoch 28/100\n",
            "13/13 - 0s - loss: 21.5946 - 46ms/epoch - 4ms/step\n",
            "Epoch 29/100\n",
            "13/13 - 0s - loss: 20.4936 - 40ms/epoch - 3ms/step\n",
            "Epoch 30/100\n",
            "13/13 - 0s - loss: 19.8384 - 40ms/epoch - 3ms/step\n",
            "Epoch 31/100\n",
            "13/13 - 0s - loss: 19.3709 - 41ms/epoch - 3ms/step\n",
            "Epoch 32/100\n",
            "13/13 - 0s - loss: 19.5140 - 51ms/epoch - 4ms/step\n",
            "Epoch 33/100\n",
            "13/13 - 0s - loss: 19.7438 - 45ms/epoch - 3ms/step\n",
            "Epoch 34/100\n",
            "13/13 - 0s - loss: 19.2471 - 38ms/epoch - 3ms/step\n",
            "Epoch 35/100\n",
            "13/13 - 0s - loss: 18.9576 - 41ms/epoch - 3ms/step\n",
            "Epoch 36/100\n",
            "13/13 - 0s - loss: 18.6455 - 38ms/epoch - 3ms/step\n",
            "Epoch 37/100\n",
            "13/13 - 0s - loss: 17.8293 - 42ms/epoch - 3ms/step\n",
            "Epoch 38/100\n",
            "13/13 - 0s - loss: 17.6436 - 50ms/epoch - 4ms/step\n",
            "Epoch 39/100\n",
            "13/13 - 0s - loss: 17.4309 - 45ms/epoch - 3ms/step\n",
            "Epoch 40/100\n",
            "13/13 - 0s - loss: 18.6384 - 41ms/epoch - 3ms/step\n",
            "Epoch 41/100\n",
            "13/13 - 0s - loss: 25.0668 - 42ms/epoch - 3ms/step\n",
            "Epoch 42/100\n",
            "13/13 - 0s - loss: 19.3534 - 42ms/epoch - 3ms/step\n",
            "Epoch 43/100\n",
            "13/13 - 0s - loss: 18.5830 - 50ms/epoch - 4ms/step\n",
            "Epoch 44/100\n",
            "13/13 - 0s - loss: 17.1942 - 50ms/epoch - 4ms/step\n",
            "Epoch 45/100\n",
            "13/13 - 0s - loss: 17.8109 - 40ms/epoch - 3ms/step\n",
            "Epoch 46/100\n",
            "13/13 - 0s - loss: 18.8886 - 41ms/epoch - 3ms/step\n",
            "Epoch 47/100\n",
            "13/13 - 0s - loss: 18.4765 - 38ms/epoch - 3ms/step\n",
            "Epoch 48/100\n",
            "13/13 - 0s - loss: 17.6737 - 34ms/epoch - 3ms/step\n",
            "Epoch 49/100\n",
            "13/13 - 0s - loss: 16.4975 - 28ms/epoch - 2ms/step\n",
            "Epoch 50/100\n",
            "13/13 - 0s - loss: 16.8677 - 36ms/epoch - 3ms/step\n",
            "Epoch 51/100\n",
            "13/13 - 0s - loss: 16.3078 - 26ms/epoch - 2ms/step\n",
            "Epoch 52/100\n",
            "13/13 - 0s - loss: 16.8000 - 29ms/epoch - 2ms/step\n",
            "Epoch 53/100\n",
            "13/13 - 0s - loss: 16.4896 - 28ms/epoch - 2ms/step\n",
            "Epoch 54/100\n",
            "13/13 - 0s - loss: 15.8991 - 28ms/epoch - 2ms/step\n",
            "Epoch 55/100\n",
            "13/13 - 0s - loss: 16.4947 - 27ms/epoch - 2ms/step\n",
            "Epoch 56/100\n",
            "13/13 - 0s - loss: 15.9648 - 25ms/epoch - 2ms/step\n",
            "Epoch 57/100\n",
            "13/13 - 0s - loss: 15.5202 - 24ms/epoch - 2ms/step\n",
            "Epoch 58/100\n",
            "13/13 - 0s - loss: 15.1772 - 25ms/epoch - 2ms/step\n",
            "Epoch 59/100\n",
            "13/13 - 0s - loss: 16.5209 - 34ms/epoch - 3ms/step\n",
            "Epoch 60/100\n",
            "13/13 - 0s - loss: 16.1059 - 26ms/epoch - 2ms/step\n",
            "Epoch 61/100\n",
            "13/13 - 0s - loss: 17.2633 - 29ms/epoch - 2ms/step\n",
            "Epoch 62/100\n",
            "13/13 - 0s - loss: 15.1866 - 28ms/epoch - 2ms/step\n",
            "Epoch 63/100\n",
            "13/13 - 0s - loss: 15.2785 - 27ms/epoch - 2ms/step\n",
            "Epoch 64/100\n",
            "13/13 - 0s - loss: 18.0108 - 28ms/epoch - 2ms/step\n",
            "Epoch 65/100\n",
            "13/13 - 0s - loss: 15.2514 - 27ms/epoch - 2ms/step\n",
            "Epoch 66/100\n",
            "13/13 - 0s - loss: 15.5580 - 28ms/epoch - 2ms/step\n",
            "Epoch 67/100\n",
            "13/13 - 0s - loss: 15.1754 - 25ms/epoch - 2ms/step\n",
            "Epoch 68/100\n",
            "13/13 - 0s - loss: 14.5184 - 31ms/epoch - 2ms/step\n",
            "Epoch 69/100\n",
            "13/13 - 0s - loss: 15.2659 - 27ms/epoch - 2ms/step\n",
            "Epoch 70/100\n",
            "13/13 - 0s - loss: 14.4227 - 25ms/epoch - 2ms/step\n",
            "Epoch 71/100\n",
            "13/13 - 0s - loss: 14.8112 - 26ms/epoch - 2ms/step\n",
            "Epoch 72/100\n",
            "13/13 - 0s - loss: 16.0704 - 26ms/epoch - 2ms/step\n",
            "Epoch 73/100\n",
            "13/13 - 0s - loss: 15.3051 - 25ms/epoch - 2ms/step\n",
            "Epoch 74/100\n",
            "13/13 - 0s - loss: 17.8798 - 37ms/epoch - 3ms/step\n",
            "Epoch 75/100\n",
            "13/13 - 0s - loss: 16.8498 - 29ms/epoch - 2ms/step\n",
            "Epoch 76/100\n",
            "13/13 - 0s - loss: 18.1407 - 29ms/epoch - 2ms/step\n",
            "Epoch 77/100\n",
            "13/13 - 0s - loss: 16.6822 - 25ms/epoch - 2ms/step\n",
            "Epoch 78/100\n",
            "13/13 - 0s - loss: 19.5294 - 31ms/epoch - 2ms/step\n",
            "Epoch 79/100\n",
            "13/13 - 0s - loss: 17.2401 - 30ms/epoch - 2ms/step\n",
            "Epoch 80/100\n",
            "13/13 - 0s - loss: 17.7456 - 28ms/epoch - 2ms/step\n",
            "Epoch 81/100\n",
            "13/13 - 0s - loss: 15.9176 - 28ms/epoch - 2ms/step\n",
            "Epoch 82/100\n",
            "13/13 - 0s - loss: 16.6495 - 27ms/epoch - 2ms/step\n",
            "Epoch 83/100\n",
            "13/13 - 0s - loss: 14.6008 - 32ms/epoch - 2ms/step\n",
            "Epoch 84/100\n",
            "13/13 - 0s - loss: 13.8834 - 31ms/epoch - 2ms/step\n",
            "Epoch 85/100\n",
            "13/13 - 0s - loss: 14.0052 - 38ms/epoch - 3ms/step\n",
            "Epoch 86/100\n",
            "13/13 - 0s - loss: 14.5560 - 31ms/epoch - 2ms/step\n",
            "Epoch 87/100\n",
            "13/13 - 0s - loss: 14.4991 - 27ms/epoch - 2ms/step\n",
            "Epoch 88/100\n",
            "13/13 - 0s - loss: 13.7531 - 31ms/epoch - 2ms/step\n",
            "Epoch 89/100\n",
            "13/13 - 0s - loss: 13.8176 - 25ms/epoch - 2ms/step\n",
            "Epoch 90/100\n",
            "13/13 - 0s - loss: 15.6281 - 27ms/epoch - 2ms/step\n",
            "Epoch 91/100\n",
            "13/13 - 0s - loss: 15.6708 - 30ms/epoch - 2ms/step\n",
            "Epoch 92/100\n",
            "13/13 - 0s - loss: 21.2612 - 30ms/epoch - 2ms/step\n",
            "Epoch 93/100\n",
            "13/13 - 0s - loss: 20.4385 - 27ms/epoch - 2ms/step\n",
            "Epoch 94/100\n",
            "13/13 - 0s - loss: 16.1504 - 30ms/epoch - 2ms/step\n",
            "Epoch 95/100\n",
            "13/13 - 0s - loss: 17.5824 - 27ms/epoch - 2ms/step\n",
            "Epoch 96/100\n",
            "13/13 - 0s - loss: 17.3987 - 26ms/epoch - 2ms/step\n",
            "Epoch 97/100\n",
            "13/13 - 0s - loss: 16.4589 - 28ms/epoch - 2ms/step\n",
            "Epoch 98/100\n",
            "13/13 - 0s - loss: 18.0508 - 26ms/epoch - 2ms/step\n",
            "Epoch 99/100\n",
            "13/13 - 0s - loss: 19.6480 - 25ms/epoch - 2ms/step\n",
            "Epoch 100/100\n",
            "13/13 - 0s - loss: 15.4444 - 25ms/epoch - 2ms/step\n"
          ]
        },
        {
          "output_type": "execute_result",
          "data": {
            "text/plain": [
              "<keras.callbacks.History at 0x7f13fa857690>"
            ]
          },
          "metadata": {},
          "execution_count": 7
        }
      ]
    },
    {
      "cell_type": "code",
      "source": [
        "# Predict\n",
        "pred = model.predict(x)"
      ],
      "metadata": {
        "colab": {
          "base_uri": "https://localhost:8080/"
        },
        "id": "HNWbkLuA-1mi",
        "outputId": "5415a59c-4dea-447c-dc0e-340baaa448de"
      },
      "execution_count": 8,
      "outputs": [
        {
          "output_type": "stream",
          "name": "stdout",
          "text": [
            "13/13 [==============================] - 0s 2ms/step\n"
          ]
        }
      ]
    },
    {
      "cell_type": "code",
      "source": [
        "# Measure RMSE error.  RMSE is common for regression.\n",
        "score = np.sqrt(metrics.mean_squared_error(pred,y))\n",
        "print(f\"Before save score (RMSE): {score}\")"
      ],
      "metadata": {
        "colab": {
          "base_uri": "https://localhost:8080/"
        },
        "id": "AaenvZcH-5b4",
        "outputId": "aea5dd17-779e-4bd9-cf99-1093d7de0374"
      },
      "execution_count": 9,
      "outputs": [
        {
          "output_type": "stream",
          "name": "stdout",
          "text": [
            "Before save score (RMSE): 3.644297737478241\n"
          ]
        }
      ]
    },
    {
      "cell_type": "code",
      "source": [
        "# save neural network structure to JSON (no weights)\n",
        "model_json = model.to_json()\n",
        "with open(os.path.join(save_path,\"network.json\"), \"w\") as json_file:\n",
        "    json_file.write(model_json)"
      ],
      "metadata": {
        "id": "RTJKqUTo-5Vs"
      },
      "execution_count": 10,
      "outputs": []
    },
    {
      "cell_type": "code",
      "execution_count": 11,
      "metadata": {
        "id": "RYGcgGF_LDUN"
      },
      "outputs": [],
      "source": [
        "# save entire network to HDF5 (save everything, suggested)\n",
        "model.save(os.path.join(save_path,\"network.h5\"))"
      ]
    },
    {
      "cell_type": "markdown",
      "metadata": {
        "id": "lRH-rnocLDUO"
      },
      "source": [
        "The code below sets up a neural network and reads the data (for predictions), but it does not clear the model directory or fit the neural network. The code loads the weights from the previous fit. Now we reload the network and perform another prediction. The RMSE should match the previous one exactly if we saved and reloaded the neural network correctly."
      ]
    },
    {
      "cell_type": "code",
      "execution_count": 12,
      "metadata": {
        "id": "XhbEI5jjLDUO",
        "outputId": "b58e00f8-b6e0-4e8b-e05d-b8d008517db0",
        "colab": {
          "base_uri": "https://localhost:8080/"
        }
      },
      "outputs": [
        {
          "output_type": "stream",
          "name": "stdout",
          "text": [
            "13/13 [==============================] - 0s 3ms/step\n",
            "After load score (RMSE): 3.644297737478241\n"
          ]
        }
      ],
      "source": [
        "from tensorflow.keras.models import load_model\n",
        "model2 = load_model(os.path.join(save_path,\"network.h5\"))\n",
        "pred = model2.predict(x)\n",
        "# Measure RMSE error.  RMSE is common for regression.\n",
        "score = np.sqrt(metrics.mean_squared_error(pred,y))\n",
        "print(f\"After load score (RMSE): {score}\")"
      ]
    },
    {
      "cell_type": "code",
      "source": [],
      "metadata": {
        "id": "Kkx-bCqZ_GYy"
      },
      "execution_count": null,
      "outputs": []
    }
  ],
  "metadata": {
    "anaconda-cloud": {},
    "kernelspec": {
      "display_name": "Python 3.9 (tensorflow)",
      "language": "python",
      "name": "tensorflow"
    },
    "language_info": {
      "codemirror_mode": {
        "name": "ipython",
        "version": 3
      },
      "file_extension": ".py",
      "mimetype": "text/x-python",
      "name": "python",
      "nbconvert_exporter": "python",
      "pygments_lexer": "ipython3",
      "version": "3.9.7"
    },
    "colab": {
      "provenance": [],
      "include_colab_link": true
    }
  },
  "nbformat": 4,
  "nbformat_minor": 0
}