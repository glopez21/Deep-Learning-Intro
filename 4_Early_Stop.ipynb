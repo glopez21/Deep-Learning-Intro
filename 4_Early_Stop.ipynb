{
  "cells": [
    {
      "cell_type": "markdown",
      "metadata": {
        "id": "view-in-github",
        "colab_type": "text"
      },
      "source": [
        "<a href=\"https://colab.research.google.com/github/glopez21/Deep-Learning-Intro/blob/main/4_Early_Stop.ipynb\" target=\"_parent\"><img src=\"https://colab.research.google.com/assets/colab-badge.svg\" alt=\"Open In Colab\"/></a>"
      ]
    },
    {
      "cell_type": "markdown",
      "metadata": {
        "id": "-8bjfByHrdF1"
      },
      "source": [
        "# Early Stopping in Keras to Prevent Overfitting\n",
        "\n",
        "It can be difficult to determine how many epochs to cycle through to train a neural network. Overfitting will occur if you train the neural network for too many epochs, and the neural network will not perform well on new data, despite attaining a good accuracy on the training set. Overfitting occurs when a neural network is trained to the point that it begins to memorize rather than generalize, as demonstrated in Figure 3.OVER. \n",
        "\n",
        "**Figure 3.OVER: Training vs. Validation Error for Overfitting**\n",
        "![Training vs. Validation Error for Overfitting](https://raw.githubusercontent.com/jeffheaton/t81_558_deep_learning/master/images/class_3_training_val.png \"Training vs. Validation Error for Overfitting\")\n",
        "\n",
        "It is important to segment the original dataset into several datasets:\n",
        "\n",
        "* **Training Set**\n",
        "* **Validation Set**\n",
        "* **Holdout Set**\n",
        "\n",
        "You can construct these sets in several different ways. The following programs demonstrate some of these.\n",
        "\n",
        "The first method is a training and validation set. We use the training data to train the neural network until the validation set no longer improves. This attempts to stop at a near-optimal training point. This method will only give accurate \"out of sample\" predictions for the validation set; this is usually 20% of the data. The predictions for the training data will be overly optimistic, as these were the data that we used to train the neural network. Figure 3.VAL demonstrates how we divide the dataset.\n",
        "\n",
        "**Figure 3.VAL: Training with a Validation Set**\n",
        "![Training with a Validation Set](https://raw.githubusercontent.com/jeffheaton/t81_558_deep_learning/master/images/class_1_train_val.png \"Training with a Validation Set\")"
      ]
    },
    {
      "cell_type": "markdown",
      "metadata": {
        "id": "jvO5Ww4wrdF2"
      },
      "source": [
        "## Early Stopping with Classification\n",
        "\n",
        "We will now see an example of classification training with early stopping. We will train the neural network until the error no longer improves on the validation set."
      ]
    },
    {
      "cell_type": "code",
      "source": [
        "import pandas as pd\n",
        "import io\n",
        "import requests\n",
        "import numpy as np\n",
        "from sklearn import metrics\n",
        "from sklearn.model_selection import train_test_split\n",
        "from tensorflow.keras.models import Sequential\n",
        "from tensorflow.keras.layers import Dense, Activation\n",
        "from tensorflow.keras.callbacks import EarlyStopping\n",
        "from sklearn.metrics import accuracy_score"
      ],
      "metadata": {
        "id": "PO7LGRYt_oF3"
      },
      "execution_count": null,
      "outputs": []
    },
    {
      "cell_type": "code",
      "source": [
        "df = pd.read_csv('https://raw.githubusercontent.com/glopez21/Deep-Learning-Intro/main/data/iris.csv', na_values=['NA', '?'])"
      ],
      "metadata": {
        "id": "f7NfeWnU_n88"
      },
      "execution_count": null,
      "outputs": []
    },
    {
      "cell_type": "code",
      "source": [
        "# Convert to numpy - Classification\n",
        "x = df[['sepal_l', 'sepal_w', 'petal_l', 'petal_w']].values\n",
        "dummies = pd.get_dummies(df['species']) # Classification\n",
        "species = dummies.columns\n",
        "y = dummies.values"
      ],
      "metadata": {
        "id": "0hrCtGSs_n46"
      },
      "execution_count": null,
      "outputs": []
    },
    {
      "cell_type": "code",
      "source": [
        "# Split into validation and training sets\n",
        "x_train, x_test, y_train, y_test = train_test_split(x, y, test_size=0.25, random_state=42)"
      ],
      "metadata": {
        "id": "V9sm8kg9_xgb"
      },
      "execution_count": null,
      "outputs": []
    },
    {
      "cell_type": "code",
      "source": [
        "# Build neural network\n",
        "model = Sequential()\n",
        "model.add(Dense(50, input_dim=x.shape[1], activation='relu')) # Hidden 1\n",
        "model.add(Dense(25, activation='relu')) # Hidden 2\n",
        "model.add(Dense(y.shape[1],activation='softmax')) # Output\n",
        "model.compile(loss='categorical_crossentropy', optimizer='adam')"
      ],
      "metadata": {
        "id": "ZpJGaTn7_xc4"
      },
      "execution_count": null,
      "outputs": []
    },
    {
      "cell_type": "code",
      "source": [
        "# Defining the early stopping parameters\n",
        "monitor = EarlyStopping(monitor='val_loss', min_delta=1e-3, patience=5, verbose=1, mode='auto', restore_best_weights=True)"
      ],
      "metadata": {
        "id": "ugl7GIVo_xZP"
      },
      "execution_count": null,
      "outputs": []
    },
    {
      "cell_type": "code",
      "execution_count": null,
      "metadata": {
        "id": "lhtQR_1trdF2",
        "outputId": "af3d2df0-2bea-4455-f355-97eecee78b7f",
        "colab": {
          "base_uri": "https://localhost:8080/"
        }
      },
      "outputs": [
        {
          "output_type": "stream",
          "name": "stdout",
          "text": [
            "Epoch 1/1000\n",
            "4/4 - 1s - loss: 1.2650 - val_loss: 1.3043 - 998ms/epoch - 250ms/step\n",
            "Epoch 2/1000\n",
            "4/4 - 0s - loss: 1.1698 - val_loss: 1.2006 - 35ms/epoch - 9ms/step\n",
            "Epoch 3/1000\n",
            "4/4 - 0s - loss: 1.0941 - val_loss: 1.1213 - 48ms/epoch - 12ms/step\n",
            "Epoch 4/1000\n",
            "4/4 - 0s - loss: 1.0395 - val_loss: 1.0546 - 39ms/epoch - 10ms/step\n",
            "Epoch 5/1000\n",
            "4/4 - 0s - loss: 0.9945 - val_loss: 0.9953 - 30ms/epoch - 8ms/step\n",
            "Epoch 6/1000\n",
            "4/4 - 0s - loss: 0.9480 - val_loss: 0.9442 - 35ms/epoch - 9ms/step\n",
            "Epoch 7/1000\n",
            "4/4 - 0s - loss: 0.9087 - val_loss: 0.8988 - 38ms/epoch - 10ms/step\n",
            "Epoch 8/1000\n",
            "4/4 - 0s - loss: 0.8720 - val_loss: 0.8590 - 32ms/epoch - 8ms/step\n",
            "Epoch 9/1000\n",
            "4/4 - 0s - loss: 0.8400 - val_loss: 0.8240 - 34ms/epoch - 9ms/step\n",
            "Epoch 10/1000\n",
            "4/4 - 0s - loss: 0.8124 - val_loss: 0.7990 - 36ms/epoch - 9ms/step\n",
            "Epoch 11/1000\n",
            "4/4 - 0s - loss: 0.7894 - val_loss: 0.7738 - 33ms/epoch - 8ms/step\n",
            "Epoch 12/1000\n",
            "4/4 - 0s - loss: 0.7688 - val_loss: 0.7489 - 30ms/epoch - 8ms/step\n",
            "Epoch 13/1000\n",
            "4/4 - 0s - loss: 0.7438 - val_loss: 0.7283 - 34ms/epoch - 8ms/step\n",
            "Epoch 14/1000\n",
            "4/4 - 0s - loss: 0.7235 - val_loss: 0.7073 - 31ms/epoch - 8ms/step\n",
            "Epoch 15/1000\n",
            "4/4 - 0s - loss: 0.7059 - val_loss: 0.6853 - 31ms/epoch - 8ms/step\n",
            "Epoch 16/1000\n",
            "4/4 - 0s - loss: 0.6856 - val_loss: 0.6612 - 31ms/epoch - 8ms/step\n",
            "Epoch 17/1000\n",
            "4/4 - 0s - loss: 0.6645 - val_loss: 0.6370 - 31ms/epoch - 8ms/step\n",
            "Epoch 18/1000\n",
            "4/4 - 0s - loss: 0.6440 - val_loss: 0.6162 - 49ms/epoch - 12ms/step\n",
            "Epoch 19/1000\n",
            "4/4 - 0s - loss: 0.6256 - val_loss: 0.5962 - 34ms/epoch - 9ms/step\n",
            "Epoch 20/1000\n",
            "4/4 - 0s - loss: 0.6082 - val_loss: 0.5733 - 44ms/epoch - 11ms/step\n",
            "Epoch 21/1000\n",
            "4/4 - 0s - loss: 0.5892 - val_loss: 0.5535 - 41ms/epoch - 10ms/step\n",
            "Epoch 22/1000\n",
            "4/4 - 0s - loss: 0.5747 - val_loss: 0.5381 - 47ms/epoch - 12ms/step\n",
            "Epoch 23/1000\n",
            "4/4 - 0s - loss: 0.5607 - val_loss: 0.5184 - 39ms/epoch - 10ms/step\n",
            "Epoch 24/1000\n",
            "4/4 - 0s - loss: 0.5402 - val_loss: 0.5034 - 62ms/epoch - 15ms/step\n",
            "Epoch 25/1000\n",
            "4/4 - 0s - loss: 0.5259 - val_loss: 0.4887 - 39ms/epoch - 10ms/step\n",
            "Epoch 26/1000\n",
            "4/4 - 0s - loss: 0.5125 - val_loss: 0.4755 - 56ms/epoch - 14ms/step\n",
            "Epoch 27/1000\n",
            "4/4 - 0s - loss: 0.4998 - val_loss: 0.4594 - 38ms/epoch - 10ms/step\n",
            "Epoch 28/1000\n",
            "4/4 - 0s - loss: 0.4860 - val_loss: 0.4458 - 40ms/epoch - 10ms/step\n",
            "Epoch 29/1000\n",
            "4/4 - 0s - loss: 0.4733 - val_loss: 0.4331 - 44ms/epoch - 11ms/step\n",
            "Epoch 30/1000\n",
            "4/4 - 0s - loss: 0.4611 - val_loss: 0.4231 - 40ms/epoch - 10ms/step\n",
            "Epoch 31/1000\n",
            "4/4 - 0s - loss: 0.4505 - val_loss: 0.4102 - 48ms/epoch - 12ms/step\n",
            "Epoch 32/1000\n",
            "4/4 - 0s - loss: 0.4390 - val_loss: 0.3968 - 45ms/epoch - 11ms/step\n",
            "Epoch 33/1000\n",
            "4/4 - 0s - loss: 0.4285 - val_loss: 0.3856 - 46ms/epoch - 11ms/step\n",
            "Epoch 34/1000\n",
            "4/4 - 0s - loss: 0.4180 - val_loss: 0.3751 - 37ms/epoch - 9ms/step\n",
            "Epoch 35/1000\n",
            "4/4 - 0s - loss: 0.4071 - val_loss: 0.3664 - 42ms/epoch - 11ms/step\n",
            "Epoch 36/1000\n",
            "4/4 - 0s - loss: 0.3980 - val_loss: 0.3580 - 36ms/epoch - 9ms/step\n",
            "Epoch 37/1000\n",
            "4/4 - 0s - loss: 0.3898 - val_loss: 0.3484 - 41ms/epoch - 10ms/step\n",
            "Epoch 38/1000\n",
            "4/4 - 0s - loss: 0.3802 - val_loss: 0.3375 - 42ms/epoch - 10ms/step\n",
            "Epoch 39/1000\n",
            "4/4 - 0s - loss: 0.3732 - val_loss: 0.3295 - 37ms/epoch - 9ms/step\n",
            "Epoch 40/1000\n",
            "4/4 - 0s - loss: 0.3648 - val_loss: 0.3214 - 42ms/epoch - 10ms/step\n",
            "Epoch 41/1000\n",
            "4/4 - 0s - loss: 0.3554 - val_loss: 0.3143 - 46ms/epoch - 12ms/step\n",
            "Epoch 42/1000\n",
            "4/4 - 0s - loss: 0.3474 - val_loss: 0.3065 - 36ms/epoch - 9ms/step\n",
            "Epoch 43/1000\n",
            "4/4 - 0s - loss: 0.3399 - val_loss: 0.2991 - 35ms/epoch - 9ms/step\n",
            "Epoch 44/1000\n",
            "4/4 - 0s - loss: 0.3334 - val_loss: 0.2922 - 54ms/epoch - 13ms/step\n",
            "Epoch 45/1000\n",
            "4/4 - 0s - loss: 0.3259 - val_loss: 0.2840 - 65ms/epoch - 16ms/step\n",
            "Epoch 46/1000\n",
            "4/4 - 0s - loss: 0.3188 - val_loss: 0.2767 - 85ms/epoch - 21ms/step\n",
            "Epoch 47/1000\n",
            "4/4 - 0s - loss: 0.3101 - val_loss: 0.2716 - 79ms/epoch - 20ms/step\n",
            "Epoch 48/1000\n",
            "4/4 - 0s - loss: 0.3037 - val_loss: 0.2670 - 73ms/epoch - 18ms/step\n",
            "Epoch 49/1000\n",
            "4/4 - 0s - loss: 0.2987 - val_loss: 0.2595 - 119ms/epoch - 30ms/step\n",
            "Epoch 50/1000\n",
            "4/4 - 0s - loss: 0.2914 - val_loss: 0.2518 - 80ms/epoch - 20ms/step\n",
            "Epoch 51/1000\n",
            "4/4 - 0s - loss: 0.2871 - val_loss: 0.2456 - 99ms/epoch - 25ms/step\n",
            "Epoch 52/1000\n",
            "4/4 - 0s - loss: 0.2784 - val_loss: 0.2400 - 66ms/epoch - 17ms/step\n",
            "Epoch 53/1000\n",
            "4/4 - 0s - loss: 0.2737 - val_loss: 0.2369 - 61ms/epoch - 15ms/step\n",
            "Epoch 54/1000\n",
            "4/4 - 0s - loss: 0.2670 - val_loss: 0.2286 - 78ms/epoch - 19ms/step\n",
            "Epoch 55/1000\n",
            "4/4 - 0s - loss: 0.2608 - val_loss: 0.2233 - 60ms/epoch - 15ms/step\n",
            "Epoch 56/1000\n",
            "4/4 - 0s - loss: 0.2539 - val_loss: 0.2193 - 68ms/epoch - 17ms/step\n",
            "Epoch 57/1000\n",
            "4/4 - 0s - loss: 0.2509 - val_loss: 0.2162 - 64ms/epoch - 16ms/step\n",
            "Epoch 58/1000\n",
            "4/4 - 0s - loss: 0.2440 - val_loss: 0.2089 - 52ms/epoch - 13ms/step\n",
            "Epoch 59/1000\n",
            "4/4 - 0s - loss: 0.2385 - val_loss: 0.2039 - 59ms/epoch - 15ms/step\n",
            "Epoch 60/1000\n",
            "4/4 - 0s - loss: 0.2332 - val_loss: 0.2018 - 64ms/epoch - 16ms/step\n",
            "Epoch 61/1000\n",
            "4/4 - 0s - loss: 0.2281 - val_loss: 0.1959 - 52ms/epoch - 13ms/step\n",
            "Epoch 62/1000\n",
            "4/4 - 0s - loss: 0.2232 - val_loss: 0.1898 - 81ms/epoch - 20ms/step\n",
            "Epoch 63/1000\n",
            "4/4 - 0s - loss: 0.2188 - val_loss: 0.1863 - 75ms/epoch - 19ms/step\n",
            "Epoch 64/1000\n",
            "4/4 - 0s - loss: 0.2146 - val_loss: 0.1813 - 59ms/epoch - 15ms/step\n",
            "Epoch 65/1000\n",
            "4/4 - 0s - loss: 0.2088 - val_loss: 0.1781 - 54ms/epoch - 14ms/step\n",
            "Epoch 66/1000\n",
            "4/4 - 0s - loss: 0.2042 - val_loss: 0.1756 - 56ms/epoch - 14ms/step\n",
            "Epoch 67/1000\n",
            "4/4 - 0s - loss: 0.2005 - val_loss: 0.1710 - 57ms/epoch - 14ms/step\n",
            "Epoch 68/1000\n",
            "4/4 - 0s - loss: 0.1974 - val_loss: 0.1661 - 52ms/epoch - 13ms/step\n",
            "Epoch 69/1000\n",
            "4/4 - 0s - loss: 0.1945 - val_loss: 0.1632 - 82ms/epoch - 21ms/step\n",
            "Epoch 70/1000\n",
            "4/4 - 0s - loss: 0.1918 - val_loss: 0.1662 - 91ms/epoch - 23ms/step\n",
            "Epoch 71/1000\n",
            "4/4 - 0s - loss: 0.1875 - val_loss: 0.1564 - 115ms/epoch - 29ms/step\n",
            "Epoch 72/1000\n",
            "4/4 - 0s - loss: 0.1813 - val_loss: 0.1538 - 98ms/epoch - 25ms/step\n",
            "Epoch 73/1000\n",
            "4/4 - 0s - loss: 0.1784 - val_loss: 0.1511 - 55ms/epoch - 14ms/step\n",
            "Epoch 74/1000\n",
            "4/4 - 0s - loss: 0.1748 - val_loss: 0.1517 - 45ms/epoch - 11ms/step\n",
            "Epoch 75/1000\n",
            "4/4 - 0s - loss: 0.1722 - val_loss: 0.1457 - 47ms/epoch - 12ms/step\n",
            "Epoch 76/1000\n",
            "4/4 - 0s - loss: 0.1682 - val_loss: 0.1409 - 71ms/epoch - 18ms/step\n",
            "Epoch 77/1000\n",
            "4/4 - 0s - loss: 0.1671 - val_loss: 0.1386 - 48ms/epoch - 12ms/step\n",
            "Epoch 78/1000\n",
            "4/4 - 0s - loss: 0.1627 - val_loss: 0.1411 - 52ms/epoch - 13ms/step\n",
            "Epoch 79/1000\n",
            "4/4 - 0s - loss: 0.1627 - val_loss: 0.1403 - 64ms/epoch - 16ms/step\n",
            "Epoch 80/1000\n",
            "4/4 - 0s - loss: 0.1575 - val_loss: 0.1308 - 91ms/epoch - 23ms/step\n",
            "Epoch 81/1000\n",
            "4/4 - 0s - loss: 0.1557 - val_loss: 0.1282 - 60ms/epoch - 15ms/step\n",
            "Epoch 82/1000\n",
            "4/4 - 0s - loss: 0.1533 - val_loss: 0.1260 - 48ms/epoch - 12ms/step\n",
            "Epoch 83/1000\n",
            "4/4 - 0s - loss: 0.1498 - val_loss: 0.1274 - 79ms/epoch - 20ms/step\n",
            "Epoch 84/1000\n",
            "4/4 - 0s - loss: 0.1471 - val_loss: 0.1267 - 47ms/epoch - 12ms/step\n",
            "Epoch 85/1000\n",
            "4/4 - 0s - loss: 0.1452 - val_loss: 0.1228 - 71ms/epoch - 18ms/step\n",
            "Epoch 86/1000\n",
            "4/4 - 0s - loss: 0.1438 - val_loss: 0.1176 - 53ms/epoch - 13ms/step\n",
            "Epoch 87/1000\n",
            "4/4 - 0s - loss: 0.1410 - val_loss: 0.1175 - 63ms/epoch - 16ms/step\n",
            "Epoch 88/1000\n",
            "4/4 - 0s - loss: 0.1406 - val_loss: 0.1174 - 41ms/epoch - 10ms/step\n",
            "Epoch 89/1000\n",
            "4/4 - 0s - loss: 0.1371 - val_loss: 0.1113 - 50ms/epoch - 12ms/step\n",
            "Epoch 90/1000\n",
            "4/4 - 0s - loss: 0.1361 - val_loss: 0.1113 - 45ms/epoch - 11ms/step\n",
            "Epoch 91/1000\n",
            "4/4 - 0s - loss: 0.1331 - val_loss: 0.1123 - 66ms/epoch - 16ms/step\n",
            "Epoch 92/1000\n",
            "4/4 - 0s - loss: 0.1318 - val_loss: 0.1123 - 67ms/epoch - 17ms/step\n",
            "Epoch 93/1000\n",
            "4/4 - 0s - loss: 0.1332 - val_loss: 0.1047 - 84ms/epoch - 21ms/step\n",
            "Epoch 94/1000\n",
            "4/4 - 0s - loss: 0.1290 - val_loss: 0.1092 - 62ms/epoch - 15ms/step\n",
            "Epoch 95/1000\n",
            "4/4 - 0s - loss: 0.1265 - val_loss: 0.1058 - 43ms/epoch - 11ms/step\n",
            "Epoch 96/1000\n",
            "4/4 - 0s - loss: 0.1269 - val_loss: 0.1064 - 50ms/epoch - 13ms/step\n",
            "Epoch 97/1000\n",
            "4/4 - 0s - loss: 0.1209 - val_loss: 0.0986 - 92ms/epoch - 23ms/step\n",
            "Epoch 98/1000\n",
            "4/4 - 0s - loss: 0.1257 - val_loss: 0.0970 - 56ms/epoch - 14ms/step\n",
            "Epoch 99/1000\n",
            "4/4 - 0s - loss: 0.1249 - val_loss: 0.1078 - 75ms/epoch - 19ms/step\n",
            "Epoch 100/1000\n",
            "4/4 - 0s - loss: 0.1201 - val_loss: 0.0991 - 84ms/epoch - 21ms/step\n",
            "Epoch 101/1000\n",
            "4/4 - 0s - loss: 0.1173 - val_loss: 0.0937 - 129ms/epoch - 32ms/step\n",
            "Epoch 102/1000\n",
            "4/4 - 0s - loss: 0.1176 - val_loss: 0.0951 - 56ms/epoch - 14ms/step\n",
            "Epoch 103/1000\n",
            "4/4 - 0s - loss: 0.1141 - val_loss: 0.0964 - 64ms/epoch - 16ms/step\n",
            "Epoch 104/1000\n",
            "4/4 - 0s - loss: 0.1137 - val_loss: 0.0943 - 93ms/epoch - 23ms/step\n",
            "Epoch 105/1000\n",
            "4/4 - 0s - loss: 0.1191 - val_loss: 0.0974 - 111ms/epoch - 28ms/step\n",
            "Epoch 106/1000\n",
            "4/4 - 0s - loss: 0.1100 - val_loss: 0.0876 - 76ms/epoch - 19ms/step\n",
            "Epoch 107/1000\n",
            "4/4 - 0s - loss: 0.1124 - val_loss: 0.0868 - 66ms/epoch - 17ms/step\n",
            "Epoch 108/1000\n",
            "4/4 - 0s - loss: 0.1124 - val_loss: 0.0924 - 65ms/epoch - 16ms/step\n",
            "Epoch 109/1000\n",
            "4/4 - 0s - loss: 0.1089 - val_loss: 0.0879 - 76ms/epoch - 19ms/step\n",
            "Epoch 110/1000\n",
            "4/4 - 0s - loss: 0.1074 - val_loss: 0.0879 - 47ms/epoch - 12ms/step\n",
            "Epoch 111/1000\n",
            "Restoring model weights from the end of the best epoch: 106.\n",
            "4/4 - 0s - loss: 0.1052 - val_loss: 0.0921 - 67ms/epoch - 17ms/step\n",
            "Epoch 111: early stopping\n"
          ]
        },
        {
          "output_type": "execute_result",
          "data": {
            "text/plain": [
              "<keras.callbacks.History at 0x7f2faa035b10>"
            ]
          },
          "metadata": {},
          "execution_count": 7
        }
      ],
      "source": [
        "# Training the model\n",
        "model.fit(x_train,y_train,validation_data=(x_test,y_test), callbacks=[monitor],verbose=2,epochs=1000)"
      ]
    },
    {
      "cell_type": "markdown",
      "metadata": {
        "id": "t7KkWiqwrdF3"
      },
      "source": [
        "There are a number of parameters that are specified to the **EarlyStopping** object. \n",
        "\n",
        "* **min_delta** This value should be kept small. It simply means the minimum change in error to be registered as an improvement.  Setting it even smaller will not likely have a great deal of impact.\n",
        "* **patience** How long should the training wait for the validation error to improve?  \n",
        "* **verbose** How much progress information do you want?\n",
        "* **mode** In general, always set this to \"auto\".  This allows you to specify if the error should be minimized or maximized.  Consider accuracy, where higher numbers are desired vs log-loss/RMSE where lower numbers are desired.\n",
        "* **restore_best_weights** This should always be set to true.  This restores the weights to the values they were at when the validation set is the highest.  Unless you are manually tracking the weights yourself (we do not use this technique in this course), you should have Keras perform this step for you.\n",
        "\n",
        "As you can see from above, the entire number of requested epochs were not used.  The neural network training stopped once the validation set no longer improved."
      ]
    },
    {
      "cell_type": "code",
      "execution_count": null,
      "metadata": {
        "id": "uFShi2GErdF3",
        "outputId": "777caaf6-248a-4ad5-d23d-7dc421e4c0b5",
        "colab": {
          "base_uri": "https://localhost:8080/"
        }
      },
      "outputs": [
        {
          "output_type": "stream",
          "name": "stdout",
          "text": [
            "2/2 [==============================] - 0s 9ms/step\n",
            "Accuracy: 1.0\n"
          ]
        }
      ],
      "source": [
        "pred = model.predict(x_test)\n",
        "predict_classes = np.argmax(pred,axis=1)\n",
        "expected_classes = np.argmax(y_test,axis=1)\n",
        "correct = accuracy_score(expected_classes,predict_classes)\n",
        "print(f\"Accuracy: {correct}\")"
      ]
    },
    {
      "cell_type": "markdown",
      "metadata": {
        "id": "ynYY3g9xrdF3"
      },
      "source": [
        "## Early Stopping with Regression\n",
        "\n",
        "The following code demonstrates how we can apply early stopping to a regression problem.  The technique is similar to the early stopping for classification code that we just saw."
      ]
    },
    {
      "cell_type": "code",
      "source": [
        "df = pd.read_csv('https://raw.githubusercontent.com/glopez21/Deep-Learning-Intro/main/data/auto-mpg.csv', na_values=['NA', '?'])"
      ],
      "metadata": {
        "id": "g1sJfHzUAWQX"
      },
      "execution_count": null,
      "outputs": []
    },
    {
      "cell_type": "code",
      "source": [
        "cars = df['name']"
      ],
      "metadata": {
        "id": "rp3OoyC-AWMd"
      },
      "execution_count": null,
      "outputs": []
    },
    {
      "cell_type": "code",
      "source": [
        "# Handle missing value\n",
        "df['horsepower'] = df['horsepower'].fillna(df['horsepower'].median())"
      ],
      "metadata": {
        "id": "tCLpCqA3AWJK"
      },
      "execution_count": null,
      "outputs": []
    },
    {
      "cell_type": "code",
      "source": [
        "# Pandas to Numpy\n",
        "x = df[['cylinders', 'displacement', 'horsepower', 'weight','acceleration', 'year', 'origin']].values\n",
        "y = df['mpg'].values"
      ],
      "metadata": {
        "id": "wVNuHHZoAdKa"
      },
      "execution_count": null,
      "outputs": []
    },
    {
      "cell_type": "code",
      "source": [
        "# Split into validation and training sets\n",
        "x_train, x_test, y_train, y_test = train_test_split(    \n",
        "    x, y, test_size=0.25, random_state=42)"
      ],
      "metadata": {
        "id": "RRyYkQbpAdHB"
      },
      "execution_count": null,
      "outputs": []
    },
    {
      "cell_type": "code",
      "source": [
        "# Build the neural network\n",
        "model = Sequential()\n",
        "model.add(Dense(25, input_dim=x.shape[1], activation='relu')) # Hidden 1\n",
        "model.add(Dense(10, activation='relu')) # Hidden 2\n",
        "model.add(Dense(1)) # Output\n",
        "model.compile(loss='mean_squared_error', optimizer='adam')"
      ],
      "metadata": {
        "id": "a6u2kOYfAdDr"
      },
      "execution_count": null,
      "outputs": []
    },
    {
      "cell_type": "code",
      "source": [
        "# Defining the early stopping parameters\n",
        "monitor = EarlyStopping(monitor='val_loss', min_delta=1e-3, patience=5, verbose=1, mode='auto', restore_best_weights=True)"
      ],
      "metadata": {
        "id": "7sk1hQmrAn68"
      },
      "execution_count": null,
      "outputs": []
    },
    {
      "cell_type": "code",
      "execution_count": null,
      "metadata": {
        "id": "h7kN8j4xrdF3",
        "outputId": "dc8c24fd-b165-468a-bba1-09032d0287a4",
        "colab": {
          "base_uri": "https://localhost:8080/"
        }
      },
      "outputs": [
        {
          "output_type": "stream",
          "name": "stdout",
          "text": [
            "Epoch 1/1000\n",
            "10/10 - 1s - loss: 613.8735 - val_loss: 326.4026 - 569ms/epoch - 57ms/step\n",
            "Epoch 2/1000\n",
            "10/10 - 0s - loss: 152.3117 - val_loss: 117.1055 - 60ms/epoch - 6ms/step\n",
            "Epoch 3/1000\n",
            "10/10 - 0s - loss: 111.9459 - val_loss: 100.3307 - 45ms/epoch - 4ms/step\n",
            "Epoch 4/1000\n",
            "10/10 - 0s - loss: 88.7659 - val_loss: 56.1233 - 65ms/epoch - 7ms/step\n",
            "Epoch 5/1000\n",
            "10/10 - 0s - loss: 71.3055 - val_loss: 60.7528 - 42ms/epoch - 4ms/step\n",
            "Epoch 6/1000\n",
            "10/10 - 0s - loss: 70.2268 - val_loss: 60.1952 - 42ms/epoch - 4ms/step\n",
            "Epoch 7/1000\n",
            "10/10 - 0s - loss: 68.7826 - val_loss: 56.0937 - 45ms/epoch - 4ms/step\n",
            "Epoch 8/1000\n",
            "10/10 - 0s - loss: 66.9420 - val_loss: 53.9640 - 40ms/epoch - 4ms/step\n",
            "Epoch 9/1000\n",
            "10/10 - 0s - loss: 69.7120 - val_loss: 61.3949 - 62ms/epoch - 6ms/step\n",
            "Epoch 10/1000\n",
            "10/10 - 0s - loss: 67.5225 - val_loss: 59.2326 - 65ms/epoch - 6ms/step\n",
            "Epoch 11/1000\n",
            "10/10 - 0s - loss: 66.9951 - val_loss: 51.9686 - 42ms/epoch - 4ms/step\n",
            "Epoch 12/1000\n",
            "10/10 - 0s - loss: 64.3653 - val_loss: 52.6477 - 40ms/epoch - 4ms/step\n",
            "Epoch 13/1000\n",
            "10/10 - 0s - loss: 62.4680 - val_loss: 59.6956 - 40ms/epoch - 4ms/step\n",
            "Epoch 14/1000\n",
            "10/10 - 0s - loss: 62.8146 - val_loss: 49.9794 - 44ms/epoch - 4ms/step\n",
            "Epoch 15/1000\n",
            "10/10 - 0s - loss: 62.2506 - val_loss: 51.8643 - 47ms/epoch - 5ms/step\n",
            "Epoch 16/1000\n",
            "10/10 - 0s - loss: 62.1909 - val_loss: 58.4179 - 59ms/epoch - 6ms/step\n",
            "Epoch 17/1000\n",
            "10/10 - 0s - loss: 58.3064 - val_loss: 48.4915 - 51ms/epoch - 5ms/step\n",
            "Epoch 18/1000\n",
            "10/10 - 0s - loss: 61.9459 - val_loss: 49.6435 - 61ms/epoch - 6ms/step\n",
            "Epoch 19/1000\n",
            "10/10 - 0s - loss: 62.0692 - val_loss: 53.3736 - 44ms/epoch - 4ms/step\n",
            "Epoch 20/1000\n",
            "10/10 - 0s - loss: 58.0207 - val_loss: 51.9888 - 45ms/epoch - 5ms/step\n",
            "Epoch 21/1000\n",
            "10/10 - 0s - loss: 55.9958 - val_loss: 46.9895 - 43ms/epoch - 4ms/step\n",
            "Epoch 22/1000\n",
            "10/10 - 0s - loss: 55.8280 - val_loss: 45.5304 - 41ms/epoch - 4ms/step\n",
            "Epoch 23/1000\n",
            "10/10 - 0s - loss: 54.4238 - val_loss: 43.9101 - 45ms/epoch - 4ms/step\n",
            "Epoch 24/1000\n",
            "10/10 - 0s - loss: 54.5047 - val_loss: 42.8926 - 40ms/epoch - 4ms/step\n",
            "Epoch 25/1000\n",
            "10/10 - 0s - loss: 55.7130 - val_loss: 53.2044 - 44ms/epoch - 4ms/step\n",
            "Epoch 26/1000\n",
            "10/10 - 0s - loss: 52.9255 - val_loss: 55.5558 - 61ms/epoch - 6ms/step\n",
            "Epoch 27/1000\n",
            "10/10 - 0s - loss: 55.0701 - val_loss: 45.1924 - 44ms/epoch - 4ms/step\n",
            "Epoch 28/1000\n",
            "10/10 - 0s - loss: 49.8006 - val_loss: 44.9451 - 48ms/epoch - 5ms/step\n",
            "Epoch 29/1000\n",
            "Restoring model weights from the end of the best epoch: 24.\n",
            "10/10 - 0s - loss: 49.6872 - val_loss: 43.4955 - 61ms/epoch - 6ms/step\n",
            "Epoch 29: early stopping\n"
          ]
        },
        {
          "output_type": "execute_result",
          "data": {
            "text/plain": [
              "<keras.callbacks.History at 0x7f2fa3dba950>"
            ]
          },
          "metadata": {},
          "execution_count": 17
        }
      ],
      "source": [
        "# Training the model\n",
        "model.fit(x_train,y_train,validation_data=(x_test,y_test), callbacks=[monitor], verbose=2,epochs=1000)"
      ]
    },
    {
      "cell_type": "markdown",
      "metadata": {
        "id": "_n9IbumurdF4"
      },
      "source": [
        "Finally, we evaluate the error."
      ]
    },
    {
      "cell_type": "code",
      "execution_count": null,
      "metadata": {
        "id": "b8vsORF4rdF4",
        "outputId": "6745e318-83fa-499b-d822-2398e357c574",
        "colab": {
          "base_uri": "https://localhost:8080/"
        }
      },
      "outputs": [
        {
          "output_type": "stream",
          "name": "stdout",
          "text": [
            "4/4 [==============================] - 0s 3ms/step\n",
            "Final score (RMSE): 6.549242720482738\n"
          ]
        }
      ],
      "source": [
        "# Measure RMSE error.  RMSE is common for regression.\n",
        "pred = model.predict(x_test)\n",
        "score = np.sqrt(metrics.mean_squared_error(pred,y_test))\n",
        "print(f\"Final score (RMSE): {score}\")"
      ]
    },
    {
      "cell_type": "code",
      "execution_count": null,
      "metadata": {
        "id": "64ZokmzCrdF4"
      },
      "outputs": [],
      "source": []
    }
  ],
  "metadata": {
    "anaconda-cloud": {},
    "kernelspec": {
      "display_name": "Python 3.9 (tensorflow)",
      "language": "python",
      "name": "tensorflow"
    },
    "language_info": {
      "codemirror_mode": {
        "name": "ipython",
        "version": 3
      },
      "file_extension": ".py",
      "mimetype": "text/x-python",
      "name": "python",
      "nbconvert_exporter": "python",
      "pygments_lexer": "ipython3",
      "version": "3.9.7"
    },
    "colab": {
      "provenance": [],
      "include_colab_link": true
    }
  },
  "nbformat": 4,
  "nbformat_minor": 0
}