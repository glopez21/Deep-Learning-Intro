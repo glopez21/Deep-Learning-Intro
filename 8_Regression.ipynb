{
  "cells": [
    {
      "cell_type": "markdown",
      "metadata": {
        "id": "view-in-github",
        "colab_type": "text"
      },
      "source": [
        "<a href=\"https://colab.research.google.com/github/glopez21/Deep-Learning-Intro/blob/main/8_Regression.ipynb\" target=\"_parent\"><img src=\"https://colab.research.google.com/assets/colab-badge.svg\" alt=\"Open In Colab\"/></a>"
      ]
    },
    {
      "cell_type": "markdown",
      "metadata": {
        "id": "iyKRfLzcJkR1"
      },
      "source": [
        "# Keras Regression for Deep Neural Networks with RMSE\n",
        "\n",
        "We evaluate regression results differently than classification.  Consider the following code that trains a neural network for regression on the data set **job-simple-dataset.csv**.  We begin by preparing the data set."
      ]
    },
    {
      "cell_type": "code",
      "source": [
        "import pandas as pd\n",
        "import numpy as np\n",
        "from scipy.stats import zscore\n",
        "from sklearn.model_selection import train_test_split\n",
        "import matplotlib.pyplot as plt\n",
        "import seaborn as sns\n",
        "\n",
        "from tensorflow.keras.models import Sequential\n",
        "from tensorflow.keras.layers import Dense, Activation\n",
        "from tensorflow.keras.callbacks import EarlyStopping\n",
        "from sklearn import metrics\n",
        "\n",
        "sns.set()"
      ],
      "metadata": {
        "id": "Cq7WCkt7JryG"
      },
      "execution_count": 16,
      "outputs": []
    },
    {
      "cell_type": "code",
      "source": [
        "# Read the data set\n",
        "df = pd.read_csv('https://raw.githubusercontent.com/glopez21/Deep-Learning-Intro/main/data/job-simple-dataset.csv', na_values=['NA','?'])"
      ],
      "metadata": {
        "id": "6k9OAH6kJrpR"
      },
      "execution_count": 3,
      "outputs": []
    },
    {
      "cell_type": "code",
      "source": [
        "# Generate dummies for job\n",
        "df = pd.concat([df,pd.get_dummies(df['job'],prefix=\"job\")],axis=1)\n",
        "df.drop('job', axis=1, inplace=True)"
      ],
      "metadata": {
        "id": "rwEOPk4sJrln"
      },
      "execution_count": 4,
      "outputs": []
    },
    {
      "cell_type": "code",
      "source": [
        "# Generate dummies for area\n",
        "df = pd.concat([df,pd.get_dummies(df['area'],prefix=\"area\")],axis=1)\n",
        "df.drop('area', axis=1, inplace=True)"
      ],
      "metadata": {
        "id": "5Zz_DdGMJ_6h"
      },
      "execution_count": 5,
      "outputs": []
    },
    {
      "cell_type": "code",
      "source": [
        "# Generate dummies for product\n",
        "df = pd.concat([df,pd.get_dummies(df['product'],prefix=\"product\")],axis=1)\n",
        "df.drop('product', axis=1, inplace=True)"
      ],
      "metadata": {
        "id": "fjKlGR6BJ_28"
      },
      "execution_count": 6,
      "outputs": []
    },
    {
      "cell_type": "code",
      "source": [
        "# Missing values for income\n",
        "med = df['income'].median()\n",
        "df['income'] = df['income'].fillna(med)"
      ],
      "metadata": {
        "id": "aoqnwlhoKD-u"
      },
      "execution_count": 7,
      "outputs": []
    },
    {
      "cell_type": "code",
      "source": [
        "# Standardize ranges\n",
        "df['income'] = zscore(df['income'])\n",
        "df['aspect'] = zscore(df['aspect'])\n",
        "df['save_rate'] = zscore(df['save_rate'])\n",
        "df['subscriptions'] = zscore(df['subscriptions'])"
      ],
      "metadata": {
        "id": "-a75U8JOKD6u"
      },
      "execution_count": 8,
      "outputs": []
    },
    {
      "cell_type": "code",
      "source": [
        "# Convert to numpy - Classification\n",
        "x_columns = df.columns.drop('age').drop('id')\n",
        "x = df[x_columns].values\n",
        "y = df['age'].values"
      ],
      "metadata": {
        "id": "nKODkkq0KG-I"
      },
      "execution_count": 9,
      "outputs": []
    },
    {
      "cell_type": "code",
      "execution_count": 11,
      "metadata": {
        "id": "OJLtWxyrJkR2"
      },
      "outputs": [],
      "source": [
        "# Create train/test\n",
        "x_train, x_test, y_train, y_test = train_test_split(x, y, test_size=0.25, random_state=42)"
      ]
    },
    {
      "cell_type": "markdown",
      "metadata": {
        "id": "64jJocd-JkR2"
      },
      "source": [
        "Next, we create a neural network to fit the data we just loaded."
      ]
    },
    {
      "cell_type": "code",
      "source": [
        "# Build the neural network\n",
        "model = Sequential()\n",
        "model.add(Dense(25, input_dim=x.shape[1], activation='relu')) # Hidden 1\n",
        "model.add(Dense(10, activation='relu')) # Hidden 2\n",
        "model.add(Dense(1)) # Output\n",
        "model.compile(loss='mean_squared_error', optimizer='adam')\n",
        "monitor = EarlyStopping(monitor='val_loss', min_delta=1e-3, patience=5, verbose=1, mode='auto', restore_best_weights=True)"
      ],
      "metadata": {
        "id": "D5WHsLNxKRcL"
      },
      "execution_count": 12,
      "outputs": []
    },
    {
      "cell_type": "code",
      "execution_count": 13,
      "metadata": {
        "colab": {
          "base_uri": "https://localhost:8080/"
        },
        "id": "GCCuyF7bJkR2",
        "outputId": "537e419c-23bb-49cc-bc1a-454ef02a1f5e"
      },
      "outputs": [
        {
          "output_type": "stream",
          "name": "stdout",
          "text": [
            "Epoch 1/1000\n",
            "47/47 - 1s - loss: 1889.5520 - val_loss: 1541.2415 - 1s/epoch - 24ms/step\n",
            "Epoch 2/1000\n",
            "47/47 - 0s - loss: 1152.0419 - val_loss: 718.2523 - 114ms/epoch - 2ms/step\n",
            "Epoch 3/1000\n",
            "47/47 - 0s - loss: 438.4734 - val_loss: 260.9715 - 128ms/epoch - 3ms/step\n",
            "Epoch 4/1000\n",
            "47/47 - 0s - loss: 236.8169 - val_loss: 217.1374 - 122ms/epoch - 3ms/step\n",
            "Epoch 5/1000\n",
            "47/47 - 0s - loss: 205.1124 - val_loss: 189.7731 - 122ms/epoch - 3ms/step\n",
            "Epoch 6/1000\n",
            "47/47 - 0s - loss: 177.0615 - val_loss: 164.0728 - 120ms/epoch - 3ms/step\n",
            "Epoch 7/1000\n",
            "47/47 - 0s - loss: 151.3064 - val_loss: 140.5734 - 127ms/epoch - 3ms/step\n",
            "Epoch 8/1000\n",
            "47/47 - 0s - loss: 128.2572 - val_loss: 119.5285 - 121ms/epoch - 3ms/step\n",
            "Epoch 9/1000\n",
            "47/47 - 0s - loss: 108.4375 - val_loss: 102.7306 - 122ms/epoch - 3ms/step\n",
            "Epoch 10/1000\n",
            "47/47 - 0s - loss: 92.2075 - val_loss: 87.7852 - 115ms/epoch - 2ms/step\n",
            "Epoch 11/1000\n",
            "47/47 - 0s - loss: 78.6299 - val_loss: 75.8730 - 126ms/epoch - 3ms/step\n",
            "Epoch 12/1000\n",
            "47/47 - 0s - loss: 66.7767 - val_loss: 66.4512 - 121ms/epoch - 3ms/step\n",
            "Epoch 13/1000\n",
            "47/47 - 0s - loss: 56.9940 - val_loss: 57.6100 - 125ms/epoch - 3ms/step\n",
            "Epoch 14/1000\n",
            "47/47 - 0s - loss: 49.4239 - val_loss: 50.6393 - 123ms/epoch - 3ms/step\n",
            "Epoch 15/1000\n",
            "47/47 - 0s - loss: 43.0285 - val_loss: 44.7992 - 118ms/epoch - 3ms/step\n",
            "Epoch 16/1000\n",
            "47/47 - 0s - loss: 37.7556 - val_loss: 39.9900 - 119ms/epoch - 3ms/step\n",
            "Epoch 17/1000\n",
            "47/47 - 0s - loss: 33.3759 - val_loss: 36.2774 - 120ms/epoch - 3ms/step\n",
            "Epoch 18/1000\n",
            "47/47 - 0s - loss: 29.8913 - val_loss: 32.3558 - 122ms/epoch - 3ms/step\n",
            "Epoch 19/1000\n",
            "47/47 - 0s - loss: 26.6834 - val_loss: 29.3748 - 162ms/epoch - 3ms/step\n",
            "Epoch 20/1000\n",
            "47/47 - 0s - loss: 24.1116 - val_loss: 26.7605 - 117ms/epoch - 2ms/step\n",
            "Epoch 21/1000\n",
            "47/47 - 0s - loss: 21.9535 - val_loss: 24.4235 - 114ms/epoch - 2ms/step\n",
            "Epoch 22/1000\n",
            "47/47 - 0s - loss: 20.2073 - val_loss: 22.5413 - 123ms/epoch - 3ms/step\n",
            "Epoch 23/1000\n",
            "47/47 - 0s - loss: 18.5834 - val_loss: 20.7656 - 120ms/epoch - 3ms/step\n",
            "Epoch 24/1000\n",
            "47/47 - 0s - loss: 17.1742 - val_loss: 19.5752 - 126ms/epoch - 3ms/step\n",
            "Epoch 25/1000\n",
            "47/47 - 0s - loss: 16.1086 - val_loss: 18.1672 - 116ms/epoch - 2ms/step\n",
            "Epoch 26/1000\n",
            "47/47 - 0s - loss: 15.1654 - val_loss: 17.0696 - 128ms/epoch - 3ms/step\n",
            "Epoch 27/1000\n",
            "47/47 - 0s - loss: 14.3292 - val_loss: 16.2653 - 137ms/epoch - 3ms/step\n",
            "Epoch 28/1000\n",
            "47/47 - 0s - loss: 13.6799 - val_loss: 15.3827 - 121ms/epoch - 3ms/step\n",
            "Epoch 29/1000\n",
            "47/47 - 0s - loss: 13.0362 - val_loss: 14.8324 - 113ms/epoch - 2ms/step\n",
            "Epoch 30/1000\n",
            "47/47 - 0s - loss: 12.5891 - val_loss: 14.1888 - 125ms/epoch - 3ms/step\n",
            "Epoch 31/1000\n",
            "47/47 - 0s - loss: 12.1538 - val_loss: 13.5698 - 131ms/epoch - 3ms/step\n",
            "Epoch 32/1000\n",
            "47/47 - 0s - loss: 11.7764 - val_loss: 13.0205 - 115ms/epoch - 2ms/step\n",
            "Epoch 33/1000\n",
            "47/47 - 0s - loss: 11.3266 - val_loss: 12.5934 - 111ms/epoch - 2ms/step\n",
            "Epoch 34/1000\n",
            "47/47 - 0s - loss: 11.0276 - val_loss: 12.1266 - 121ms/epoch - 3ms/step\n",
            "Epoch 35/1000\n",
            "47/47 - 0s - loss: 10.6405 - val_loss: 11.7134 - 127ms/epoch - 3ms/step\n",
            "Epoch 36/1000\n",
            "47/47 - 0s - loss: 10.3320 - val_loss: 11.4388 - 118ms/epoch - 3ms/step\n",
            "Epoch 37/1000\n",
            "47/47 - 0s - loss: 9.9666 - val_loss: 10.9023 - 127ms/epoch - 3ms/step\n",
            "Epoch 38/1000\n",
            "47/47 - 0s - loss: 9.7190 - val_loss: 10.8833 - 119ms/epoch - 3ms/step\n",
            "Epoch 39/1000\n",
            "47/47 - 0s - loss: 9.3847 - val_loss: 10.3235 - 118ms/epoch - 3ms/step\n",
            "Epoch 40/1000\n",
            "47/47 - 0s - loss: 9.0943 - val_loss: 9.8785 - 118ms/epoch - 3ms/step\n",
            "Epoch 41/1000\n",
            "47/47 - 0s - loss: 8.9846 - val_loss: 9.6929 - 113ms/epoch - 2ms/step\n",
            "Epoch 42/1000\n",
            "47/47 - 0s - loss: 8.5065 - val_loss: 9.3527 - 111ms/epoch - 2ms/step\n",
            "Epoch 43/1000\n",
            "47/47 - 0s - loss: 8.1338 - val_loss: 8.9055 - 159ms/epoch - 3ms/step\n",
            "Epoch 44/1000\n",
            "47/47 - 0s - loss: 7.9491 - val_loss: 8.8583 - 118ms/epoch - 3ms/step\n",
            "Epoch 45/1000\n",
            "47/47 - 0s - loss: 7.5942 - val_loss: 8.5346 - 113ms/epoch - 2ms/step\n",
            "Epoch 46/1000\n",
            "47/47 - 0s - loss: 7.2981 - val_loss: 7.9580 - 121ms/epoch - 3ms/step\n",
            "Epoch 47/1000\n",
            "47/47 - 0s - loss: 7.0045 - val_loss: 7.8125 - 115ms/epoch - 2ms/step\n",
            "Epoch 48/1000\n",
            "47/47 - 0s - loss: 6.7705 - val_loss: 7.3354 - 140ms/epoch - 3ms/step\n",
            "Epoch 49/1000\n",
            "47/47 - 0s - loss: 6.5272 - val_loss: 7.0727 - 111ms/epoch - 2ms/step\n",
            "Epoch 50/1000\n",
            "47/47 - 0s - loss: 6.2523 - val_loss: 6.8146 - 159ms/epoch - 3ms/step\n",
            "Epoch 51/1000\n",
            "47/47 - 0s - loss: 6.0258 - val_loss: 6.5135 - 131ms/epoch - 3ms/step\n",
            "Epoch 52/1000\n",
            "47/47 - 0s - loss: 5.8485 - val_loss: 6.2342 - 112ms/epoch - 2ms/step\n",
            "Epoch 53/1000\n",
            "47/47 - 0s - loss: 5.5381 - val_loss: 6.1155 - 122ms/epoch - 3ms/step\n",
            "Epoch 54/1000\n",
            "47/47 - 0s - loss: 5.3023 - val_loss: 5.6956 - 119ms/epoch - 3ms/step\n",
            "Epoch 55/1000\n",
            "47/47 - 0s - loss: 5.0855 - val_loss: 5.4614 - 123ms/epoch - 3ms/step\n",
            "Epoch 56/1000\n",
            "47/47 - 0s - loss: 4.9057 - val_loss: 5.1622 - 110ms/epoch - 2ms/step\n",
            "Epoch 57/1000\n",
            "47/47 - 0s - loss: 4.7598 - val_loss: 4.9816 - 119ms/epoch - 3ms/step\n",
            "Epoch 58/1000\n",
            "47/47 - 0s - loss: 4.5106 - val_loss: 4.6685 - 117ms/epoch - 2ms/step\n",
            "Epoch 59/1000\n",
            "47/47 - 0s - loss: 4.2689 - val_loss: 4.4196 - 152ms/epoch - 3ms/step\n",
            "Epoch 60/1000\n",
            "47/47 - 0s - loss: 4.0413 - val_loss: 4.1898 - 122ms/epoch - 3ms/step\n",
            "Epoch 61/1000\n",
            "47/47 - 0s - loss: 3.8432 - val_loss: 4.1702 - 119ms/epoch - 3ms/step\n",
            "Epoch 62/1000\n",
            "47/47 - 0s - loss: 3.6427 - val_loss: 3.8620 - 117ms/epoch - 2ms/step\n",
            "Epoch 63/1000\n",
            "47/47 - 0s - loss: 3.4765 - val_loss: 3.6699 - 123ms/epoch - 3ms/step\n",
            "Epoch 64/1000\n",
            "47/47 - 0s - loss: 3.2806 - val_loss: 3.5718 - 120ms/epoch - 3ms/step\n",
            "Epoch 65/1000\n",
            "47/47 - 0s - loss: 3.1269 - val_loss: 3.3299 - 118ms/epoch - 3ms/step\n",
            "Epoch 66/1000\n",
            "47/47 - 0s - loss: 2.9352 - val_loss: 3.2827 - 124ms/epoch - 3ms/step\n",
            "Epoch 67/1000\n",
            "47/47 - 0s - loss: 2.9244 - val_loss: 3.1078 - 162ms/epoch - 3ms/step\n",
            "Epoch 68/1000\n",
            "47/47 - 0s - loss: 2.6241 - val_loss: 2.8731 - 114ms/epoch - 2ms/step\n",
            "Epoch 69/1000\n",
            "47/47 - 0s - loss: 2.4688 - val_loss: 2.6694 - 121ms/epoch - 3ms/step\n",
            "Epoch 70/1000\n",
            "47/47 - 0s - loss: 2.3954 - val_loss: 2.6689 - 114ms/epoch - 2ms/step\n",
            "Epoch 71/1000\n",
            "47/47 - 0s - loss: 2.2338 - val_loss: 2.5214 - 116ms/epoch - 2ms/step\n",
            "Epoch 72/1000\n",
            "47/47 - 0s - loss: 2.0825 - val_loss: 2.3054 - 109ms/epoch - 2ms/step\n",
            "Epoch 73/1000\n",
            "47/47 - 0s - loss: 1.9486 - val_loss: 2.3723 - 123ms/epoch - 3ms/step\n",
            "Epoch 74/1000\n",
            "47/47 - 0s - loss: 1.8584 - val_loss: 2.0634 - 118ms/epoch - 3ms/step\n",
            "Epoch 75/1000\n",
            "47/47 - 0s - loss: 1.7621 - val_loss: 1.9657 - 115ms/epoch - 2ms/step\n",
            "Epoch 76/1000\n",
            "47/47 - 0s - loss: 1.6296 - val_loss: 1.8354 - 121ms/epoch - 3ms/step\n",
            "Epoch 77/1000\n",
            "47/47 - 0s - loss: 1.5442 - val_loss: 1.7187 - 115ms/epoch - 2ms/step\n",
            "Epoch 78/1000\n",
            "47/47 - 0s - loss: 1.4733 - val_loss: 1.6455 - 112ms/epoch - 2ms/step\n",
            "Epoch 79/1000\n",
            "47/47 - 0s - loss: 1.3604 - val_loss: 1.5553 - 187ms/epoch - 4ms/step\n",
            "Epoch 80/1000\n",
            "47/47 - 0s - loss: 1.3227 - val_loss: 1.5318 - 117ms/epoch - 2ms/step\n",
            "Epoch 81/1000\n",
            "47/47 - 0s - loss: 1.2677 - val_loss: 1.4161 - 120ms/epoch - 3ms/step\n",
            "Epoch 82/1000\n",
            "47/47 - 0s - loss: 1.1506 - val_loss: 1.3398 - 117ms/epoch - 2ms/step\n",
            "Epoch 83/1000\n",
            "47/47 - 0s - loss: 1.0791 - val_loss: 1.2820 - 119ms/epoch - 3ms/step\n",
            "Epoch 84/1000\n",
            "47/47 - 0s - loss: 1.0297 - val_loss: 1.2183 - 124ms/epoch - 3ms/step\n",
            "Epoch 85/1000\n",
            "47/47 - 0s - loss: 1.0107 - val_loss: 1.2600 - 115ms/epoch - 2ms/step\n",
            "Epoch 86/1000\n",
            "47/47 - 0s - loss: 0.9633 - val_loss: 1.1522 - 112ms/epoch - 2ms/step\n",
            "Epoch 87/1000\n",
            "47/47 - 0s - loss: 0.8901 - val_loss: 1.1128 - 115ms/epoch - 2ms/step\n",
            "Epoch 88/1000\n",
            "47/47 - 0s - loss: 0.8473 - val_loss: 1.0301 - 121ms/epoch - 3ms/step\n",
            "Epoch 89/1000\n",
            "47/47 - 0s - loss: 0.8062 - val_loss: 0.9991 - 123ms/epoch - 3ms/step\n",
            "Epoch 90/1000\n",
            "47/47 - 0s - loss: 0.7715 - val_loss: 0.9887 - 127ms/epoch - 3ms/step\n",
            "Epoch 91/1000\n",
            "47/47 - 0s - loss: 0.7454 - val_loss: 0.9301 - 167ms/epoch - 4ms/step\n",
            "Epoch 92/1000\n",
            "47/47 - 0s - loss: 0.6936 - val_loss: 0.9103 - 296ms/epoch - 6ms/step\n",
            "Epoch 93/1000\n",
            "47/47 - 0s - loss: 0.6833 - val_loss: 0.8700 - 332ms/epoch - 7ms/step\n",
            "Epoch 94/1000\n",
            "47/47 - 0s - loss: 0.6614 - val_loss: 0.8845 - 284ms/epoch - 6ms/step\n",
            "Epoch 95/1000\n",
            "47/47 - 0s - loss: 0.6284 - val_loss: 0.8412 - 373ms/epoch - 8ms/step\n",
            "Epoch 96/1000\n",
            "47/47 - 0s - loss: 0.5976 - val_loss: 0.8015 - 318ms/epoch - 7ms/step\n",
            "Epoch 97/1000\n",
            "47/47 - 0s - loss: 0.5977 - val_loss: 0.7891 - 245ms/epoch - 5ms/step\n",
            "Epoch 98/1000\n",
            "47/47 - 0s - loss: 0.5864 - val_loss: 0.7751 - 325ms/epoch - 7ms/step\n",
            "Epoch 99/1000\n",
            "47/47 - 0s - loss: 0.5586 - val_loss: 0.7936 - 262ms/epoch - 6ms/step\n",
            "Epoch 100/1000\n",
            "47/47 - 0s - loss: 0.5811 - val_loss: 0.7341 - 249ms/epoch - 5ms/step\n",
            "Epoch 101/1000\n",
            "47/47 - 0s - loss: 0.5502 - val_loss: 0.8354 - 258ms/epoch - 5ms/step\n",
            "Epoch 102/1000\n",
            "47/47 - 0s - loss: 0.5179 - val_loss: 0.7135 - 130ms/epoch - 3ms/step\n",
            "Epoch 103/1000\n",
            "47/47 - 0s - loss: 0.5269 - val_loss: 0.7008 - 119ms/epoch - 3ms/step\n",
            "Epoch 104/1000\n",
            "47/47 - 0s - loss: 0.5005 - val_loss: 0.7057 - 158ms/epoch - 3ms/step\n",
            "Epoch 105/1000\n",
            "47/47 - 0s - loss: 0.5074 - val_loss: 0.6759 - 123ms/epoch - 3ms/step\n",
            "Epoch 106/1000\n",
            "47/47 - 0s - loss: 0.5214 - val_loss: 0.6707 - 111ms/epoch - 2ms/step\n",
            "Epoch 107/1000\n",
            "47/47 - 0s - loss: 0.5099 - val_loss: 0.6752 - 114ms/epoch - 2ms/step\n",
            "Epoch 108/1000\n",
            "47/47 - 0s - loss: 0.4958 - val_loss: 0.7465 - 117ms/epoch - 2ms/step\n",
            "Epoch 109/1000\n",
            "47/47 - 0s - loss: 0.4905 - val_loss: 0.6951 - 120ms/epoch - 3ms/step\n",
            "Epoch 110/1000\n",
            "47/47 - 0s - loss: 0.4750 - val_loss: 0.6736 - 113ms/epoch - 2ms/step\n",
            "Epoch 111/1000\n",
            "47/47 - 0s - loss: 0.4618 - val_loss: 0.6272 - 226ms/epoch - 5ms/step\n",
            "Epoch 112/1000\n",
            "47/47 - 0s - loss: 0.4574 - val_loss: 0.6366 - 132ms/epoch - 3ms/step\n",
            "Epoch 113/1000\n",
            "47/47 - 0s - loss: 0.4503 - val_loss: 0.6189 - 217ms/epoch - 5ms/step\n",
            "Epoch 114/1000\n",
            "47/47 - 0s - loss: 0.4567 - val_loss: 0.7123 - 232ms/epoch - 5ms/step\n",
            "Epoch 115/1000\n",
            "47/47 - 0s - loss: 0.4471 - val_loss: 0.6713 - 241ms/epoch - 5ms/step\n",
            "Epoch 116/1000\n",
            "47/47 - 0s - loss: 0.4518 - val_loss: 0.6496 - 203ms/epoch - 4ms/step\n",
            "Epoch 117/1000\n",
            "47/47 - 0s - loss: 0.4537 - val_loss: 0.6868 - 208ms/epoch - 4ms/step\n",
            "Epoch 118/1000\n",
            "47/47 - 0s - loss: 0.4563 - val_loss: 0.6152 - 213ms/epoch - 5ms/step\n",
            "Epoch 119/1000\n",
            "47/47 - 0s - loss: 0.4386 - val_loss: 0.5830 - 221ms/epoch - 5ms/step\n",
            "Epoch 120/1000\n",
            "47/47 - 0s - loss: 0.4158 - val_loss: 0.5812 - 130ms/epoch - 3ms/step\n",
            "Epoch 121/1000\n",
            "47/47 - 0s - loss: 0.4106 - val_loss: 0.6694 - 117ms/epoch - 2ms/step\n",
            "Epoch 122/1000\n",
            "47/47 - 0s - loss: 0.4328 - val_loss: 0.5495 - 116ms/epoch - 2ms/step\n",
            "Epoch 123/1000\n",
            "47/47 - 0s - loss: 0.3987 - val_loss: 0.5441 - 113ms/epoch - 2ms/step\n",
            "Epoch 124/1000\n",
            "47/47 - 0s - loss: 0.3990 - val_loss: 0.5397 - 115ms/epoch - 2ms/step\n",
            "Epoch 125/1000\n",
            "47/47 - 0s - loss: 0.3964 - val_loss: 0.5439 - 128ms/epoch - 3ms/step\n",
            "Epoch 126/1000\n",
            "47/47 - 0s - loss: 0.4023 - val_loss: 0.5208 - 112ms/epoch - 2ms/step\n",
            "Epoch 127/1000\n",
            "47/47 - 0s - loss: 0.3840 - val_loss: 0.5331 - 110ms/epoch - 2ms/step\n",
            "Epoch 128/1000\n",
            "47/47 - 0s - loss: 0.4344 - val_loss: 0.5140 - 142ms/epoch - 3ms/step\n",
            "Epoch 129/1000\n",
            "47/47 - 0s - loss: 0.3739 - val_loss: 0.6119 - 121ms/epoch - 3ms/step\n",
            "Epoch 130/1000\n",
            "47/47 - 0s - loss: 0.3982 - val_loss: 0.5048 - 115ms/epoch - 2ms/step\n",
            "Epoch 131/1000\n",
            "47/47 - 0s - loss: 0.3623 - val_loss: 0.5347 - 156ms/epoch - 3ms/step\n",
            "Epoch 132/1000\n",
            "47/47 - 0s - loss: 0.3823 - val_loss: 0.4958 - 114ms/epoch - 2ms/step\n",
            "Epoch 133/1000\n",
            "47/47 - 0s - loss: 0.3677 - val_loss: 0.4840 - 116ms/epoch - 2ms/step\n",
            "Epoch 134/1000\n",
            "47/47 - 0s - loss: 0.3720 - val_loss: 0.5527 - 112ms/epoch - 2ms/step\n",
            "Epoch 135/1000\n",
            "47/47 - 0s - loss: 0.3558 - val_loss: 0.4874 - 119ms/epoch - 3ms/step\n",
            "Epoch 136/1000\n",
            "47/47 - 0s - loss: 0.3442 - val_loss: 0.5035 - 132ms/epoch - 3ms/step\n",
            "Epoch 137/1000\n",
            "47/47 - 0s - loss: 0.3582 - val_loss: 0.4632 - 116ms/epoch - 2ms/step\n",
            "Epoch 138/1000\n",
            "47/47 - 0s - loss: 0.3559 - val_loss: 0.4843 - 116ms/epoch - 2ms/step\n",
            "Epoch 139/1000\n",
            "47/47 - 0s - loss: 0.3535 - val_loss: 0.5684 - 112ms/epoch - 2ms/step\n",
            "Epoch 140/1000\n",
            "47/47 - 0s - loss: 0.3601 - val_loss: 0.4775 - 113ms/epoch - 2ms/step\n",
            "Epoch 141/1000\n",
            "47/47 - 0s - loss: 0.3677 - val_loss: 0.4731 - 155ms/epoch - 3ms/step\n",
            "Epoch 142/1000\n",
            "47/47 - 0s - loss: 0.3440 - val_loss: 0.4604 - 120ms/epoch - 3ms/step\n",
            "Epoch 143/1000\n",
            "47/47 - 0s - loss: 0.3401 - val_loss: 0.5201 - 110ms/epoch - 2ms/step\n",
            "Epoch 144/1000\n",
            "47/47 - 0s - loss: 0.3346 - val_loss: 0.5017 - 122ms/epoch - 3ms/step\n",
            "Epoch 145/1000\n",
            "47/47 - 0s - loss: 0.3554 - val_loss: 0.4908 - 115ms/epoch - 2ms/step\n",
            "Epoch 146/1000\n",
            "47/47 - 0s - loss: 0.3887 - val_loss: 0.4884 - 119ms/epoch - 3ms/step\n",
            "Epoch 147/1000\n",
            "Restoring model weights from the end of the best epoch: 142.\n",
            "47/47 - 0s - loss: 0.3360 - val_loss: 0.4642 - 117ms/epoch - 2ms/step\n",
            "Epoch 147: early stopping\n"
          ]
        },
        {
          "output_type": "execute_result",
          "data": {
            "text/plain": [
              "<keras.callbacks.History at 0x7f63aac4b090>"
            ]
          },
          "metadata": {},
          "execution_count": 13
        }
      ],
      "source": [
        "# Training the neural network\n",
        "model.fit(x_train,y_train,validation_data=(x_test,y_test), callbacks=[monitor],verbose=2,epochs=1000)"
      ]
    },
    {
      "cell_type": "markdown",
      "metadata": {
        "id": "W8N3NW7VJkR2"
      },
      "source": [
        "## Mean Square Error\n",
        "\n",
        "The mean square error (MSE) is the sum of the squared differences between the prediction ($\\hat{y}$) and the expected ($y$).  MSE values are not of a particular unit. If an MSE value has decreased for a model, that is good. However, beyond this, there is not much more you can determine. We seek to achieve low MSE values. The following equation demonstrates how to calculate MSE.\n",
        "\n",
        "$$ \\mbox{MSE} = \\frac{1}{n} \\sum_{i=1}^n \\left(\\hat{y}_i - y_i\\right)^2 $$\n",
        "\n",
        "The following code calculates the MSE on the predictions from the neural network."
      ]
    },
    {
      "cell_type": "code",
      "source": [
        "# Predict\n",
        "pred = model.predict(x_test)"
      ],
      "metadata": {
        "colab": {
          "base_uri": "https://localhost:8080/"
        },
        "id": "RZomLu8XKjvH",
        "outputId": "abd33715-549e-4333-ae2f-86420b31db62"
      },
      "execution_count": 15,
      "outputs": [
        {
          "output_type": "stream",
          "name": "stdout",
          "text": [
            "16/16 [==============================] - 0s 2ms/step\n"
          ]
        }
      ]
    },
    {
      "cell_type": "code",
      "execution_count": 17,
      "metadata": {
        "colab": {
          "base_uri": "https://localhost:8080/"
        },
        "id": "lp-aJu45JkR2",
        "outputId": "2f661047-d697-4271-c2c1-801ce82bb56d"
      },
      "outputs": [
        {
          "output_type": "stream",
          "name": "stdout",
          "text": [
            "Final score (MSE): 0.4604202148641416\n"
          ]
        }
      ],
      "source": [
        "# Measure MSE error.  \n",
        "score = metrics.mean_squared_error(pred,y_test)\n",
        "print(\"Final score (MSE): {}\".format(score))"
      ]
    },
    {
      "cell_type": "markdown",
      "metadata": {
        "id": "MZ-FK-YVJkR3"
      },
      "source": [
        "## Root Mean Square Error\n",
        "\n",
        "The root mean square (RMSE) is essentially the square root of the MSE. Because of this, the RMSE error is in the same units as the training data outcome. We desire Low RMSE values. The following equation calculates RMSE.\n",
        "\n",
        "$$ \\mbox{RMSE} = \\sqrt{\\frac{1}{n} \\sum_{i=1}^n \\left(\\hat{y}_i - y_i\\right)^2} $$"
      ]
    },
    {
      "cell_type": "code",
      "execution_count": 18,
      "metadata": {
        "colab": {
          "base_uri": "https://localhost:8080/"
        },
        "id": "w6a5jxDFJkR3",
        "outputId": "a5f3dd00-c59b-499e-ffdc-88f92d908fce"
      },
      "outputs": [
        {
          "output_type": "stream",
          "name": "stdout",
          "text": [
            "Final score (RMSE): 0.6785427141043824\n"
          ]
        }
      ],
      "source": [
        "# Measure RMSE error.  RMSE is common for regression.\n",
        "score = np.sqrt(metrics.mean_squared_error(pred,y_test))\n",
        "print(\"Final score (RMSE): {}\".format(score))"
      ]
    },
    {
      "cell_type": "markdown",
      "metadata": {
        "id": "AiU7oXjpJkR3"
      },
      "source": [
        "## Lift Chart\n",
        "\n",
        "We often visualize the results of regression with a lift chart. To generate a lift chart, perform the following activities:\n",
        "\n",
        "* Sort the data by expected output and plot these values.\n",
        "* For every point on the x-axis, plot that same data point's predicted value in another color.\n",
        "* The x-axis is just 0 to 100% of the dataset. The expected always starts low and ends high.\n",
        "* The y-axis is ranged according to the values predicted.\n",
        "\n",
        "You can interpret the lift chart as follows:\n",
        "\n",
        "* The expected and predict lines should be close. Notice where one is above the other.\n",
        "* The below chart is the most accurate for lower ages."
      ]
    },
    {
      "cell_type": "code",
      "execution_count": 19,
      "metadata": {
        "colab": {
          "base_uri": "https://localhost:8080/",
          "height": 268
        },
        "id": "KuDKDbrXJkR3",
        "outputId": "9e6c60a0-6490-40d8-f786-d3fe61cefca2"
      },
      "outputs": [
        {
          "output_type": "display_data",
          "data": {
            "text/plain": [
              "<Figure size 432x288 with 1 Axes>"
            ],
            "image/png": "[encoded data removed]"
          },
          "metadata": {}
        }
      ],
      "source": [
        "# Regression chart.\n",
        "def chart_regression(pred, y, sort=True):\n",
        "    t = pd.DataFrame({'pred': pred, 'y': y.flatten()})\n",
        "    if sort:\n",
        "        t.sort_values(by=['y'], inplace=True)\n",
        "    plt.plot(t['y'].tolist(), label='expected')\n",
        "    plt.plot(t['pred'].tolist(), label='prediction')\n",
        "    plt.ylabel('output')\n",
        "    plt.legend()\n",
        "    plt.show()\n",
        "    \n",
        "# Plot the chart\n",
        "chart_regression(pred.flatten(),y_test)"
      ]
    },
    {
      "cell_type": "code",
      "execution_count": null,
      "metadata": {
        "id": "ZLqQ7IiZJkR3"
      },
      "outputs": [],
      "source": []
    }
  ],
  "metadata": {
    "anaconda-cloud": {},
    "kernelspec": {
      "display_name": "Python 3.9 (tensorflow)",
      "language": "python",
      "name": "tensorflow"
    },
    "language_info": {
      "codemirror_mode": {
        "name": "ipython",
        "version": 3
      },
      "file_extension": ".py",
      "mimetype": "text/x-python",
      "name": "python",
      "nbconvert_exporter": "python",
      "pygments_lexer": "ipython3",
      "version": "3.9.7"
    },
    "colab": {
      "provenance": [],
      "include_colab_link": true
    }
  },
  "nbformat": 4,
  "nbformat_minor": 0
}